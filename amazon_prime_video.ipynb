{
  "nbformat": 4,
  "nbformat_minor": 0,
  "metadata": {
    "colab": {
      "name": "amazon_prime_video.ipynb",
      "provenance": []
    },
    "kernelspec": {
      "name": "python3",
      "display_name": "Python 3"
    }
  },
  "cells": [
    {
      "cell_type": "markdown",
      "metadata": {
        "id": "rBpsrCkades3",
        "colab_type": "text"
      },
      "source": [
        "Questions:\n",
        "Build a prediction model to predict whether a movie is going to perform well on our platform (cvt_per_day) based on the information in the dataset.\n"
      ]
    },
    {
      "cell_type": "markdown",
      "metadata": {
        "id": "5iKeTcZpqVh4",
        "colab_type": "text"
      },
      "source": [
        "Summary:\n",
        "\n",
        "Run four models including ridge regression, SVM, Random Forerst and Xgboost and the result is random forest and Xgboost beat the other two models. Xgboost has the best performance on the training dataset but random forest has better performance on the testing dataset, which may caused by Xgboost naturely has lower bias than baggging models and it also means higher variance. So I decide use random forest as final selected model. \n",
        "\n",
        "The ten most important features are 'weighted_categorical_position', 'imdb_votes' 'weighted_horizontal_poition', 'boxoffice', 'budget', 'star_category''metacritic_score', '2012-2013', 'imdb_rating' and 'duration_in_mins'."
      ]
    },
    {
      "cell_type": "code",
      "metadata": {
        "id": "co3ogFk_aS0m",
        "colab_type": "code",
        "outputId": "3dfe0a9e-b6af-434e-a341-060fa13a9e7c",
        "colab": {
          "base_uri": "https://localhost:8080/",
          "height": 34
        }
      },
      "source": [
        "from google.colab import drive\n",
        "drive.mount('/content/drive')"
      ],
      "execution_count": 40,
      "outputs": [
        {
          "output_type": "stream",
          "text": [
            "Drive already mounted at /content/drive; to attempt to forcibly remount, call drive.mount(\"/content/drive\", force_remount=True).\n"
          ],
          "name": "stdout"
        }
      ]
    },
    {
      "cell_type": "code",
      "metadata": {
        "id": "CYO4tLTwaV_9",
        "colab_type": "code",
        "colab": {}
      },
      "source": [
        "import numpy as np\n",
        "import pandas as pd\n",
        "path = \"/content/drive/My Drive/TVdata (1).txt\"\n",
        "df0 = pd.read_csv(path)"
      ],
      "execution_count": 0,
      "outputs": []
    },
    {
      "cell_type": "markdown",
      "metadata": {
        "id": "R44kG83gfAVh",
        "colab_type": "text"
      },
      "source": [
        "## **1. Understand the data**\n"
      ]
    },
    {
      "cell_type": "code",
      "metadata": {
        "id": "-fJibv2-alo5",
        "colab_type": "code",
        "colab": {}
      },
      "source": [
        "df1 = df0.copy()"
      ],
      "execution_count": 0,
      "outputs": []
    },
    {
      "cell_type": "code",
      "metadata": {
        "id": "NmLd4AE9anFF",
        "colab_type": "code",
        "outputId": "456aa755-e20b-4667-b0d9-af4c33dc0ca9",
        "colab": {
          "base_uri": "https://localhost:8080/",
          "height": 340
        }
      },
      "source": [
        "print(df1.dtypes)\n",
        "print(\"number of rows: \",df1.shape[0])\n",
        "print(\"number of columns: \", df1.shape[1])"
      ],
      "execution_count": 43,
      "outputs": [
        {
          "output_type": "stream",
          "text": [
            "video_id                           int64\n",
            "cvt_per_day                      float64\n",
            "weighted_categorical_position      int64\n",
            "weighted_horizontal_poition        int64\n",
            "import_id                         object\n",
            "release_year                       int64\n",
            "genres                            object\n",
            "imdb_votes                         int64\n",
            "budget                             int64\n",
            "boxoffice                          int64\n",
            "imdb_rating                      float64\n",
            "duration_in_mins                 float64\n",
            "metacritic_score                   int64\n",
            "awards                            object\n",
            "mpaa                              object\n",
            "star_category                    float64\n",
            "dtype: object\n",
            "number of rows:  4226\n",
            "number of columns:  16\n"
          ],
          "name": "stdout"
        }
      ]
    },
    {
      "cell_type": "markdown",
      "metadata": {
        "id": "gBBY_ae7vvZv",
        "colab_type": "text"
      },
      "source": [
        "1.1 check the duplicates"
      ]
    },
    {
      "cell_type": "code",
      "metadata": {
        "id": "5SedLTDhazQe",
        "colab_type": "code",
        "outputId": "50662df7-e441-41bc-9976-f5ff5951cac9",
        "colab": {
          "base_uri": "https://localhost:8080/",
          "height": 34
        }
      },
      "source": [
        "df1.duplicated(subset = 'video_id').any()\n",
        "print(\"there is no duplicates base on 'video_id'\")"
      ],
      "execution_count": 44,
      "outputs": [
        {
          "output_type": "stream",
          "text": [
            "there is no duplicates base on 'video_id'\n"
          ],
          "name": "stdout"
        }
      ]
    },
    {
      "cell_type": "markdown",
      "metadata": {
        "id": "4UKxtYssv3nW",
        "colab_type": "text"
      },
      "source": [
        "1.2 check the numaric data corrlation"
      ]
    },
    {
      "cell_type": "code",
      "metadata": {
        "id": "4YYOEuphgb_5",
        "colab_type": "code",
        "colab": {}
      },
      "source": [
        "numaric_features_index = []\n",
        "for i in range(len(df1.dtypes)):\n",
        "  if df1.dtypes[i] in ['int64','float64']:\n",
        "    numaric_features_index.append(i)\n"
      ],
      "execution_count": 0,
      "outputs": []
    },
    {
      "cell_type": "code",
      "metadata": {
        "id": "nPZTiFiQmMN3",
        "colab_type": "code",
        "colab": {}
      },
      "source": [
        "numaric_features = df1.columns[numaric_features_index]"
      ],
      "execution_count": 0,
      "outputs": []
    },
    {
      "cell_type": "code",
      "metadata": {
        "id": "mbBFpSA6hHg_",
        "colab_type": "code",
        "outputId": "5cff51c0-0b58-4738-c0f5-2a67eb6bd280",
        "colab": {
          "base_uri": "https://localhost:8080/",
          "height": 428
        }
      },
      "source": [
        "import seaborn as sns\n",
        "corr= df1[numaric_features].corr()\n",
        "sns.heatmap(corr, cmap=\"YlGnBu\")"
      ],
      "execution_count": 47,
      "outputs": [
        {
          "output_type": "execute_result",
          "data": {
            "text/plain": [
              "<matplotlib.axes._subplots.AxesSubplot at 0x7f2d7bb329e8>"
            ]
          },
          "metadata": {
            "tags": []
          },
          "execution_count": 47
        },
        {
          "output_type": "display_data",
          "data": {
            "image/png": "[encoded data removed]",
            "text/plain": [
              "<Figure size 432x288 with 2 Axes>"
            ]
          },
          "metadata": {
            "tags": [],
            "needs_background": "light"
          }
        }
      ]
    },
    {
      "cell_type": "markdown",
      "metadata": {
        "id": "eDG8x9ugv95m",
        "colab_type": "text"
      },
      "source": [
        "1.3 check the Nan values"
      ]
    },
    {
      "cell_type": "code",
      "metadata": {
        "id": "RsSKHP3zjYns",
        "colab_type": "code",
        "outputId": "6d516f97-5163-4946-db8f-6fe0b7ab69f4",
        "colab": {
          "base_uri": "https://localhost:8080/",
          "height": 306
        }
      },
      "source": [
        "df1.isnull().any()"
      ],
      "execution_count": 48,
      "outputs": [
        {
          "output_type": "execute_result",
          "data": {
            "text/plain": [
              "video_id                         False\n",
              "cvt_per_day                      False\n",
              "weighted_categorical_position    False\n",
              "weighted_horizontal_poition      False\n",
              "import_id                        False\n",
              "release_year                     False\n",
              "genres                           False\n",
              "imdb_votes                       False\n",
              "budget                           False\n",
              "boxoffice                        False\n",
              "imdb_rating                      False\n",
              "duration_in_mins                 False\n",
              "metacritic_score                 False\n",
              "awards                           False\n",
              "mpaa                             False\n",
              "star_category                    False\n",
              "dtype: bool"
            ]
          },
          "metadata": {
            "tags": []
          },
          "execution_count": 48
        }
      ]
    },
    {
      "cell_type": "code",
      "metadata": {
        "id": "8FFLD7f1oKIE",
        "colab_type": "code",
        "outputId": "5c5e617e-59da-46b5-bb24-3705f8a21689",
        "colab": {
          "base_uri": "https://localhost:8080/",
          "height": 816
        }
      },
      "source": [
        "pd.set_option('max_columns', None)\n",
        "print(df1.describe(percentiles = [.1, .25, .5, .75, .95]))"
      ],
      "execution_count": 49,
      "outputs": [
        {
          "output_type": "stream",
          "text": [
            "            video_id    cvt_per_day  weighted_categorical_position  \\\n",
            "count    4226.000000    4226.000000                    4226.000000   \n",
            "mean   280371.162565    4218.630239                       7.782537   \n",
            "std    112640.127822   13036.079964                       6.134183   \n",
            "min      7909.000000       2.187625                       1.000000   \n",
            "10%     30848.000000     141.984913                       3.000000   \n",
            "25%    285104.250000     351.168776                       4.000000   \n",
            "50%    313891.500000    1193.499989                       6.000000   \n",
            "75%    349345.750000    3356.788816                       9.000000   \n",
            "95%    386221.750000   14692.833929                      22.000000   \n",
            "max    394880.000000  307127.605608                      41.000000   \n",
            "\n",
            "       weighted_horizontal_poition  release_year     imdb_votes        budget  \\\n",
            "count                  4226.000000   4226.000000    4226.000000  4.226000e+03   \n",
            "mean                     28.103644   2001.056791    6462.924042  2.150743e+06   \n",
            "std                      11.863649     17.496849   31596.006790  7.176604e+06   \n",
            "min                       1.000000   1916.000000       0.000000  0.000000e+00   \n",
            "10%                      13.000000   1974.000000       8.000000  0.000000e+00   \n",
            "25%                      20.000000   1998.000000      81.000000  0.000000e+00   \n",
            "50%                      28.000000   2008.000000     535.000000  0.000000e+00   \n",
            "75%                      36.000000   2012.000000    3053.000000  1.500000e+06   \n",
            "95%                      48.000000   2015.000000   26199.500000  1.200000e+07   \n",
            "max                      70.000000   2017.000000  948630.000000  1.070000e+08   \n",
            "\n",
            "          boxoffice  imdb_rating  duration_in_mins  metacritic_score  \\\n",
            "count  4.226000e+03  4226.000000       4226.000000       4226.000000   \n",
            "mean   2.536338e+06     5.257099         89.556123         15.973734   \n",
            "std    8.243516e+06     2.122810         21.086183         26.205217   \n",
            "min    0.000000e+00     0.000000          4.037250          0.000000   \n",
            "10%    0.000000e+00     2.300000         62.390781          0.000000   \n",
            "25%    0.000000e+00     4.300000         82.601712          0.000000   \n",
            "50%    0.000000e+00     5.800000         90.730308          0.000000   \n",
            "75%    0.000000e+00     6.800000         99.500312         41.000000   \n",
            "95%    8.551228e+06     7.800000        119.131183         65.000000   \n",
            "max    1.842088e+08    10.000000        246.016767        100.000000   \n",
            "\n",
            "       star_category  \n",
            "count    4226.000000  \n",
            "mean        0.954651  \n",
            "std         0.955045  \n",
            "min         0.000000  \n",
            "10%         0.000000  \n",
            "25%         0.000000  \n",
            "50%         1.000000  \n",
            "75%         1.666667  \n",
            "95%         2.597222  \n",
            "max         4.000000  \n"
          ],
          "name": "stdout"
        }
      ]
    },
    {
      "cell_type": "markdown",
      "metadata": {
        "id": "cppGntONtNSz",
        "colab_type": "text"
      },
      "source": [
        "each feature in budget, boxoffice, metacritic_score and star_category has about 50% of missing data. They are presented as 0."
      ]
    },
    {
      "cell_type": "markdown",
      "metadata": {
        "id": "-2A21a13wH1t",
        "colab_type": "text"
      },
      "source": [
        "1.4 understand the categorical features\n",
        "\n",
        "['import_id', 'genres', 'awards', 'mpaa']"
      ]
    },
    {
      "cell_type": "code",
      "metadata": {
        "id": "Bo4Yk2qEqBhe",
        "colab_type": "code",
        "outputId": "5ac5de76-b357-4e21-b7db-10c034f441a4",
        "colab": {
          "base_uri": "https://localhost:8080/",
          "height": 1000
        }
      },
      "source": [
        "import matplotlib.pyplot as plt\n",
        "\n",
        "sns.stripplot(x='import_id', y='cvt_per_day', data=df1, jitter=True)\n",
        "plt.show()\n",
        "print(df1['import_id'].value_counts().reset_index())\n",
        "\n",
        "sns.stripplot(x='mpaa', y='cvt_per_day', data=df1, jitter=True)\n",
        "plt.show()\n",
        "print(df1['mpaa'].value_counts().reset_index())\n",
        "\n",
        "sns.stripplot(x='awards', y='cvt_per_day', data=df1, jitter=True)\n",
        "plt.show()\n",
        "print(df1['awards'].value_counts().reset_index())"
      ],
      "execution_count": 50,
      "outputs": [
        {
          "output_type": "display_data",
          "data": {
            "image/png": "[encoded data removed]",
            "text/plain": [
              "<Figure size 432x288 with 1 Axes>"
            ]
          },
          "metadata": {
            "tags": [],
            "needs_background": "light"
          }
        },
        {
          "output_type": "stream",
          "text": [
            "       index  import_id\n",
            "0      other       2963\n",
            "1  lionsgate        677\n",
            "2        mgm        445\n",
            "3  paramount        141\n"
          ],
          "name": "stdout"
        },
        {
          "output_type": "display_data",
          "data": {
            "image/png": "[encoded data removed]",
            "text/plain": [
              "<Figure size 432x288 with 1 Axes>"
            ]
          },
          "metadata": {
            "tags": [],
            "needs_background": "light"
          }
        },
        {
          "output_type": "stream",
          "text": [
            "      index  mpaa\n",
            "0  NotRated  2158\n",
            "1         R  1158\n",
            "2     PG-13   426\n",
            "3        PG   353\n",
            "4         G   125\n",
            "5     NC-17     6\n"
          ],
          "name": "stdout"
        },
        {
          "output_type": "display_data",
          "data": {
            "image/png": "[encoded data removed]",
            "text/plain": [
              "<Figure size 432x288 with 1 Axes>"
            ]
          },
          "metadata": {
            "tags": [],
            "needs_background": "light"
          }
        },
        {
          "output_type": "stream",
          "text": [
            "          index  awards\n",
            "0      no award    2569\n",
            "1   other award    1453\n",
            "2         Oscar     141\n",
            "3  Golden Globe      44\n",
            "4         BAFTA      19\n"
          ],
          "name": "stdout"
        }
      ]
    },
    {
      "cell_type": "code",
      "metadata": {
        "id": "riAknNCxw2Ye",
        "colab_type": "code",
        "outputId": "842abb40-e8ee-40d2-b8df-654598496c8a",
        "colab": {
          "base_uri": "https://localhost:8080/",
          "height": 377
        }
      },
      "source": [
        "gen_split = df1['genres'].str.get_dummies(sep=',').sum()\n",
        "gen_split.sort_values(ascending=False).plot.bar()"
      ],
      "execution_count": 51,
      "outputs": [
        {
          "output_type": "execute_result",
          "data": {
            "text/plain": [
              "<matplotlib.axes._subplots.AxesSubplot at 0x7f2d7bd50048>"
            ]
          },
          "metadata": {
            "tags": []
          },
          "execution_count": 51
        },
        {
          "output_type": "display_data",
          "data": {
            "image/png": "[encoded data removed]",
            "text/plain": [
              "<Figure size 432x288 with 1 Axes>"
            ]
          },
          "metadata": {
            "tags": [],
            "needs_background": "light"
          }
        }
      ]
    },
    {
      "cell_type": "markdown",
      "metadata": {
        "id": "OP5ti7_x4GCW",
        "colab_type": "text"
      },
      "source": [
        "\n",
        "\n",
        "6 genres including Anime, Reality, Lifestyle, Adult, LGBT, Holiday have low frequencies. Therefore, during feature processing, they will be grouped together as: 'Misc_gen' in the feature 'genres'."
      ]
    },
    {
      "cell_type": "markdown",
      "metadata": {
        "id": "PkZY3d_i4O9a",
        "colab_type": "text"
      },
      "source": [
        "# **2.Feature Preprocessing**"
      ]
    },
    {
      "cell_type": "markdown",
      "metadata": {
        "id": "CJDNjMdc4Y9Q",
        "colab_type": "text"
      },
      "source": [
        "2.1 categorical features to numaric features"
      ]
    },
    {
      "cell_type": "code",
      "metadata": {
        "id": "6ar_ZHju4fg8",
        "colab_type": "code",
        "colab": {}
      },
      "source": [
        "d_import_id = pd.get_dummies(df1['import_id']).astype(np.int64)\n",
        "d_mpaa = pd.get_dummies(df1['mpaa']).astype(np.int64)\n",
        "d_awards = pd.get_dummies(df1.awards).astype(np.int64)"
      ],
      "execution_count": 0,
      "outputs": []
    },
    {
      "cell_type": "code",
      "metadata": {
        "id": "YR-_f2o280ut",
        "colab_type": "code",
        "colab": {}
      },
      "source": [
        "d_genres = pd.DataFrame() \n",
        "for genre in ['Action', 'Adult', 'Adventure', 'Animation', 'Anime', 'Comedy', 'Crime', 'Documentary', 'Drama'\n",
        "          , 'Fantasy', 'Foreign/International', 'Holiday', 'Horror', 'Independent', 'Kids & Family', 'LGBT', \n",
        "          'Lifestyle', 'Music', 'Musicals','Mystery', 'Reality', 'Romance','Sci-Fi', 'Sport', 'Thriller', 'War', \n",
        "          'Western']:\n",
        "    gen_lst = []\n",
        "    for i in range(4226):        \n",
        "        if genre in df1['genres'][i]:\n",
        "            gen_lst.append(1)    \n",
        "        else: \n",
        "            gen_lst.append(0)  \n",
        "    d_genres[genre] = pd.Series(gen_lst).values\n",
        "    \n",
        "# combine 6 smallest genres into a new genre 'Misc_gen'\n",
        "d_genres['Misc_gen'] = d_genres['Anime']|d_genres['Reality']|d_genres['Lifestyle']|d_genres['Adult']|d_genres['LGBT']|d_genres['Holiday']\n",
        "d_genres.drop(['Anime', 'Reality','Lifestyle', 'Adult','LGBT','Holiday'], inplace=True, axis=1)"
      ],
      "execution_count": 0,
      "outputs": []
    },
    {
      "cell_type": "code",
      "metadata": {
        "id": "63p4PIvQ9Px1",
        "colab_type": "code",
        "outputId": "456d4cfd-2c51-402d-fd8b-13b8ce81a3ef",
        "colab": {
          "base_uri": "https://localhost:8080/",
          "height": 34
        }
      },
      "source": [
        "# bin release_year and convert into dummies\n",
        "max(df1.release_year)"
      ],
      "execution_count": 54,
      "outputs": [
        {
          "output_type": "execute_result",
          "data": {
            "text/plain": [
              "2017"
            ]
          },
          "metadata": {
            "tags": []
          },
          "execution_count": 54
        }
      ]
    },
    {
      "cell_type": "code",
      "metadata": {
        "id": "-QSyJvIjA6uE",
        "colab_type": "code",
        "colab": {}
      },
      "source": [
        "bin_year = [1916, 1974, 1991, 2001, 2006, 2008, 2010, 2012, 2013, 2014,2017]\n",
        "year_range = ['1916-1974', '1974-1991', '1991-2001', '2001-2006','2006-2008','2008-2010','2010-2012','2012-2013',\n",
        "              '2013-2014','2014-2017']\n",
        "year_bin = pd.cut(df1['release_year'], bin_year, labels=year_range)\n",
        "d_year = pd.get_dummies(year_bin).astype(np.int64)"
      ],
      "execution_count": 0,
      "outputs": []
    },
    {
      "cell_type": "code",
      "metadata": {
        "id": "GjZERt7vE_ZL",
        "colab_type": "code",
        "colab": {}
      },
      "source": [
        "d_year = pd.get_dummies(year_bin).astype(np.int64)"
      ],
      "execution_count": 0,
      "outputs": []
    },
    {
      "cell_type": "code",
      "metadata": {
        "id": "KfBMqeFZVjAh",
        "colab_type": "code",
        "outputId": "c32de047-66f6-4d00-f886-f7c53acb1825",
        "colab": {
          "base_uri": "https://localhost:8080/",
          "height": 34
        }
      },
      "source": [
        "temp = df1.drop(['import_id', 'mpaa','awards','genres', 'release_year'], axis=1)\n",
        "df2 = pd.concat([temp, d_import_id, d_mpaa, d_awards, d_genres, d_year], axis=1)\n",
        "df2.shape"
      ],
      "execution_count": 57,
      "outputs": [
        {
          "output_type": "execute_result",
          "data": {
            "text/plain": [
              "(4226, 58)"
            ]
          },
          "metadata": {
            "tags": []
          },
          "execution_count": 57
        }
      ]
    },
    {
      "cell_type": "code",
      "metadata": {
        "id": "MIl6HqKZWSfH",
        "colab_type": "code",
        "outputId": "6f13a204-f853-4cc5-f970-c0744e0a0367",
        "colab": {
          "base_uri": "https://localhost:8080/",
          "height": 241
        }
      },
      "source": [
        "df2.head()"
      ],
      "execution_count": 58,
      "outputs": [
        {
          "output_type": "execute_result",
          "data": {
            "text/html": [
              "<div>\n",
              "<style scoped>\n",
              "    .dataframe tbody tr th:only-of-type {\n",
              "        vertical-align: middle;\n",
              "    }\n",
              "\n",
              "    .dataframe tbody tr th {\n",
              "        vertical-align: top;\n",
              "    }\n",
              "\n",
              "    .dataframe thead th {\n",
              "        text-align: right;\n",
              "    }\n",
              "</style>\n",
              "<table border=\"1\" class=\"dataframe\">\n",
              "  <thead>\n",
              "    <tr style=\"text-align: right;\">\n",
              "      <th></th>\n",
              "      <th>video_id</th>\n",
              "      <th>cvt_per_day</th>\n",
              "      <th>weighted_categorical_position</th>\n",
              "      <th>weighted_horizontal_poition</th>\n",
              "      <th>imdb_votes</th>\n",
              "      <th>budget</th>\n",
              "      <th>boxoffice</th>\n",
              "      <th>imdb_rating</th>\n",
              "      <th>duration_in_mins</th>\n",
              "      <th>metacritic_score</th>\n",
              "      <th>star_category</th>\n",
              "      <th>lionsgate</th>\n",
              "      <th>mgm</th>\n",
              "      <th>other</th>\n",
              "      <th>paramount</th>\n",
              "      <th>G</th>\n",
              "      <th>NC-17</th>\n",
              "      <th>NotRated</th>\n",
              "      <th>PG</th>\n",
              "      <th>PG-13</th>\n",
              "      <th>R</th>\n",
              "      <th>BAFTA</th>\n",
              "      <th>Golden Globe</th>\n",
              "      <th>Oscar</th>\n",
              "      <th>no award</th>\n",
              "      <th>other award</th>\n",
              "      <th>Action</th>\n",
              "      <th>Adventure</th>\n",
              "      <th>Animation</th>\n",
              "      <th>Comedy</th>\n",
              "      <th>Crime</th>\n",
              "      <th>Documentary</th>\n",
              "      <th>Drama</th>\n",
              "      <th>Fantasy</th>\n",
              "      <th>Foreign/International</th>\n",
              "      <th>Horror</th>\n",
              "      <th>Independent</th>\n",
              "      <th>Kids &amp; Family</th>\n",
              "      <th>Music</th>\n",
              "      <th>Musicals</th>\n",
              "      <th>Mystery</th>\n",
              "      <th>Romance</th>\n",
              "      <th>Sci-Fi</th>\n",
              "      <th>Sport</th>\n",
              "      <th>Thriller</th>\n",
              "      <th>War</th>\n",
              "      <th>Western</th>\n",
              "      <th>Misc_gen</th>\n",
              "      <th>1916-1974</th>\n",
              "      <th>1974-1991</th>\n",
              "      <th>1991-2001</th>\n",
              "      <th>2001-2006</th>\n",
              "      <th>2006-2008</th>\n",
              "      <th>2008-2010</th>\n",
              "      <th>2010-2012</th>\n",
              "      <th>2012-2013</th>\n",
              "      <th>2013-2014</th>\n",
              "      <th>2014-2017</th>\n",
              "    </tr>\n",
              "  </thead>\n",
              "  <tbody>\n",
              "    <tr>\n",
              "      <th>0</th>\n",
              "      <td>385504</td>\n",
              "      <td>307127.605608</td>\n",
              "      <td>1</td>\n",
              "      <td>3</td>\n",
              "      <td>69614</td>\n",
              "      <td>15000000</td>\n",
              "      <td>42930462</td>\n",
              "      <td>6.5</td>\n",
              "      <td>112.301017</td>\n",
              "      <td>51</td>\n",
              "      <td>1.710000</td>\n",
              "      <td>1</td>\n",
              "      <td>0</td>\n",
              "      <td>0</td>\n",
              "      <td>0</td>\n",
              "      <td>0</td>\n",
              "      <td>0</td>\n",
              "      <td>0</td>\n",
              "      <td>0</td>\n",
              "      <td>1</td>\n",
              "      <td>0</td>\n",
              "      <td>0</td>\n",
              "      <td>0</td>\n",
              "      <td>0</td>\n",
              "      <td>0</td>\n",
              "      <td>1</td>\n",
              "      <td>1</td>\n",
              "      <td>0</td>\n",
              "      <td>0</td>\n",
              "      <td>0</td>\n",
              "      <td>0</td>\n",
              "      <td>0</td>\n",
              "      <td>1</td>\n",
              "      <td>0</td>\n",
              "      <td>0</td>\n",
              "      <td>0</td>\n",
              "      <td>0</td>\n",
              "      <td>0</td>\n",
              "      <td>0</td>\n",
              "      <td>0</td>\n",
              "      <td>0</td>\n",
              "      <td>0</td>\n",
              "      <td>0</td>\n",
              "      <td>0</td>\n",
              "      <td>1</td>\n",
              "      <td>0</td>\n",
              "      <td>0</td>\n",
              "      <td>0</td>\n",
              "      <td>0</td>\n",
              "      <td>0</td>\n",
              "      <td>0</td>\n",
              "      <td>0</td>\n",
              "      <td>0</td>\n",
              "      <td>0</td>\n",
              "      <td>0</td>\n",
              "      <td>1</td>\n",
              "      <td>0</td>\n",
              "      <td>0</td>\n",
              "    </tr>\n",
              "    <tr>\n",
              "      <th>1</th>\n",
              "      <td>300175</td>\n",
              "      <td>270338.426375</td>\n",
              "      <td>1</td>\n",
              "      <td>3</td>\n",
              "      <td>46705</td>\n",
              "      <td>15000000</td>\n",
              "      <td>3301046</td>\n",
              "      <td>6.5</td>\n",
              "      <td>94.983250</td>\n",
              "      <td>41</td>\n",
              "      <td>3.250000</td>\n",
              "      <td>1</td>\n",
              "      <td>0</td>\n",
              "      <td>0</td>\n",
              "      <td>0</td>\n",
              "      <td>0</td>\n",
              "      <td>0</td>\n",
              "      <td>0</td>\n",
              "      <td>0</td>\n",
              "      <td>0</td>\n",
              "      <td>1</td>\n",
              "      <td>0</td>\n",
              "      <td>0</td>\n",
              "      <td>0</td>\n",
              "      <td>1</td>\n",
              "      <td>0</td>\n",
              "      <td>0</td>\n",
              "      <td>0</td>\n",
              "      <td>0</td>\n",
              "      <td>1</td>\n",
              "      <td>1</td>\n",
              "      <td>0</td>\n",
              "      <td>0</td>\n",
              "      <td>0</td>\n",
              "      <td>0</td>\n",
              "      <td>0</td>\n",
              "      <td>0</td>\n",
              "      <td>0</td>\n",
              "      <td>0</td>\n",
              "      <td>0</td>\n",
              "      <td>0</td>\n",
              "      <td>0</td>\n",
              "      <td>0</td>\n",
              "      <td>0</td>\n",
              "      <td>1</td>\n",
              "      <td>0</td>\n",
              "      <td>0</td>\n",
              "      <td>0</td>\n",
              "      <td>0</td>\n",
              "      <td>0</td>\n",
              "      <td>0</td>\n",
              "      <td>0</td>\n",
              "      <td>0</td>\n",
              "      <td>0</td>\n",
              "      <td>0</td>\n",
              "      <td>1</td>\n",
              "      <td>0</td>\n",
              "      <td>0</td>\n",
              "    </tr>\n",
              "    <tr>\n",
              "      <th>2</th>\n",
              "      <td>361899</td>\n",
              "      <td>256165.867446</td>\n",
              "      <td>1</td>\n",
              "      <td>3</td>\n",
              "      <td>197596</td>\n",
              "      <td>26000000</td>\n",
              "      <td>37397291</td>\n",
              "      <td>7.3</td>\n",
              "      <td>115.763675</td>\n",
              "      <td>58</td>\n",
              "      <td>2.646667</td>\n",
              "      <td>0</td>\n",
              "      <td>0</td>\n",
              "      <td>1</td>\n",
              "      <td>0</td>\n",
              "      <td>0</td>\n",
              "      <td>0</td>\n",
              "      <td>0</td>\n",
              "      <td>0</td>\n",
              "      <td>0</td>\n",
              "      <td>1</td>\n",
              "      <td>0</td>\n",
              "      <td>0</td>\n",
              "      <td>0</td>\n",
              "      <td>0</td>\n",
              "      <td>1</td>\n",
              "      <td>0</td>\n",
              "      <td>0</td>\n",
              "      <td>0</td>\n",
              "      <td>0</td>\n",
              "      <td>1</td>\n",
              "      <td>0</td>\n",
              "      <td>1</td>\n",
              "      <td>0</td>\n",
              "      <td>0</td>\n",
              "      <td>0</td>\n",
              "      <td>0</td>\n",
              "      <td>0</td>\n",
              "      <td>0</td>\n",
              "      <td>0</td>\n",
              "      <td>0</td>\n",
              "      <td>0</td>\n",
              "      <td>0</td>\n",
              "      <td>0</td>\n",
              "      <td>0</td>\n",
              "      <td>0</td>\n",
              "      <td>0</td>\n",
              "      <td>0</td>\n",
              "      <td>0</td>\n",
              "      <td>0</td>\n",
              "      <td>0</td>\n",
              "      <td>0</td>\n",
              "      <td>0</td>\n",
              "      <td>0</td>\n",
              "      <td>1</td>\n",
              "      <td>0</td>\n",
              "      <td>0</td>\n",
              "      <td>0</td>\n",
              "    </tr>\n",
              "    <tr>\n",
              "      <th>3</th>\n",
              "      <td>308314</td>\n",
              "      <td>196622.720996</td>\n",
              "      <td>3</td>\n",
              "      <td>4</td>\n",
              "      <td>356339</td>\n",
              "      <td>15000000</td>\n",
              "      <td>15700000</td>\n",
              "      <td>7.6</td>\n",
              "      <td>130.703583</td>\n",
              "      <td>94</td>\n",
              "      <td>1.666667</td>\n",
              "      <td>1</td>\n",
              "      <td>0</td>\n",
              "      <td>0</td>\n",
              "      <td>0</td>\n",
              "      <td>0</td>\n",
              "      <td>0</td>\n",
              "      <td>0</td>\n",
              "      <td>0</td>\n",
              "      <td>0</td>\n",
              "      <td>1</td>\n",
              "      <td>0</td>\n",
              "      <td>0</td>\n",
              "      <td>1</td>\n",
              "      <td>0</td>\n",
              "      <td>0</td>\n",
              "      <td>1</td>\n",
              "      <td>0</td>\n",
              "      <td>0</td>\n",
              "      <td>0</td>\n",
              "      <td>0</td>\n",
              "      <td>1</td>\n",
              "      <td>1</td>\n",
              "      <td>0</td>\n",
              "      <td>0</td>\n",
              "      <td>0</td>\n",
              "      <td>0</td>\n",
              "      <td>0</td>\n",
              "      <td>0</td>\n",
              "      <td>0</td>\n",
              "      <td>1</td>\n",
              "      <td>0</td>\n",
              "      <td>0</td>\n",
              "      <td>0</td>\n",
              "      <td>1</td>\n",
              "      <td>1</td>\n",
              "      <td>0</td>\n",
              "      <td>0</td>\n",
              "      <td>0</td>\n",
              "      <td>0</td>\n",
              "      <td>0</td>\n",
              "      <td>0</td>\n",
              "      <td>1</td>\n",
              "      <td>0</td>\n",
              "      <td>0</td>\n",
              "      <td>0</td>\n",
              "      <td>0</td>\n",
              "      <td>0</td>\n",
              "    </tr>\n",
              "    <tr>\n",
              "      <th>4</th>\n",
              "      <td>307201</td>\n",
              "      <td>159841.652064</td>\n",
              "      <td>1</td>\n",
              "      <td>3</td>\n",
              "      <td>46720</td>\n",
              "      <td>27220000</td>\n",
              "      <td>8551228</td>\n",
              "      <td>6.4</td>\n",
              "      <td>105.545533</td>\n",
              "      <td>37</td>\n",
              "      <td>3.066667</td>\n",
              "      <td>1</td>\n",
              "      <td>0</td>\n",
              "      <td>0</td>\n",
              "      <td>0</td>\n",
              "      <td>0</td>\n",
              "      <td>0</td>\n",
              "      <td>0</td>\n",
              "      <td>0</td>\n",
              "      <td>0</td>\n",
              "      <td>1</td>\n",
              "      <td>0</td>\n",
              "      <td>0</td>\n",
              "      <td>0</td>\n",
              "      <td>0</td>\n",
              "      <td>1</td>\n",
              "      <td>0</td>\n",
              "      <td>0</td>\n",
              "      <td>0</td>\n",
              "      <td>0</td>\n",
              "      <td>1</td>\n",
              "      <td>1</td>\n",
              "      <td>0</td>\n",
              "      <td>0</td>\n",
              "      <td>0</td>\n",
              "      <td>0</td>\n",
              "      <td>0</td>\n",
              "      <td>0</td>\n",
              "      <td>0</td>\n",
              "      <td>0</td>\n",
              "      <td>1</td>\n",
              "      <td>0</td>\n",
              "      <td>0</td>\n",
              "      <td>0</td>\n",
              "      <td>1</td>\n",
              "      <td>0</td>\n",
              "      <td>0</td>\n",
              "      <td>0</td>\n",
              "      <td>0</td>\n",
              "      <td>0</td>\n",
              "      <td>0</td>\n",
              "      <td>0</td>\n",
              "      <td>0</td>\n",
              "      <td>0</td>\n",
              "      <td>0</td>\n",
              "      <td>1</td>\n",
              "      <td>0</td>\n",
              "      <td>0</td>\n",
              "    </tr>\n",
              "  </tbody>\n",
              "</table>\n",
              "</div>"
            ],
            "text/plain": [
              "   video_id    cvt_per_day  weighted_categorical_position  \\\n",
              "0    385504  307127.605608                              1   \n",
              "1    300175  270338.426375                              1   \n",
              "2    361899  256165.867446                              1   \n",
              "3    308314  196622.720996                              3   \n",
              "4    307201  159841.652064                              1   \n",
              "\n",
              "   weighted_horizontal_poition  imdb_votes    budget  boxoffice  imdb_rating  \\\n",
              "0                            3       69614  15000000   42930462          6.5   \n",
              "1                            3       46705  15000000    3301046          6.5   \n",
              "2                            3      197596  26000000   37397291          7.3   \n",
              "3                            4      356339  15000000   15700000          7.6   \n",
              "4                            3       46720  27220000    8551228          6.4   \n",
              "\n",
              "   duration_in_mins  metacritic_score  star_category  lionsgate  mgm  other  \\\n",
              "0        112.301017                51       1.710000          1    0      0   \n",
              "1         94.983250                41       3.250000          1    0      0   \n",
              "2        115.763675                58       2.646667          0    0      1   \n",
              "3        130.703583                94       1.666667          1    0      0   \n",
              "4        105.545533                37       3.066667          1    0      0   \n",
              "\n",
              "   paramount  G  NC-17  NotRated  PG  PG-13  R  BAFTA  Golden Globe  Oscar  \\\n",
              "0          0  0      0         0   0      1  0      0             0      0   \n",
              "1          0  0      0         0   0      0  1      0             0      0   \n",
              "2          0  0      0         0   0      0  1      0             0      0   \n",
              "3          0  0      0         0   0      0  1      0             0      1   \n",
              "4          0  0      0         0   0      0  1      0             0      0   \n",
              "\n",
              "   no award  other award  Action  Adventure  Animation  Comedy  Crime  \\\n",
              "0         0            1       1          0          0       0      0   \n",
              "1         1            0       0          0          0       1      1   \n",
              "2         0            1       0          0          0       0      1   \n",
              "3         0            0       1          0          0       0      0   \n",
              "4         0            1       0          0          0       0      1   \n",
              "\n",
              "   Documentary  Drama  Fantasy  Foreign/International  Horror  Independent  \\\n",
              "0            0      1        0                      0       0            0   \n",
              "1            0      0        0                      0       0            0   \n",
              "2            0      1        0                      0       0            0   \n",
              "3            1      1        0                      0       0            0   \n",
              "4            1      0        0                      0       0            0   \n",
              "\n",
              "   Kids & Family  Music  Musicals  Mystery  Romance  Sci-Fi  Sport  Thriller  \\\n",
              "0              0      0         0        0        0       0      0         1   \n",
              "1              0      0         0        0        0       0      0         1   \n",
              "2              0      0         0        0        0       0      0         0   \n",
              "3              0      0         0        1        0       0      0         1   \n",
              "4              0      0         0        1        0       0      0         1   \n",
              "\n",
              "   War  Western  Misc_gen  1916-1974  1974-1991  1991-2001  2001-2006  \\\n",
              "0    0        0         0          0          0          0          0   \n",
              "1    0        0         0          0          0          0          0   \n",
              "2    0        0         0          0          0          0          0   \n",
              "3    1        0         0          0          0          0          0   \n",
              "4    0        0         0          0          0          0          0   \n",
              "\n",
              "   2006-2008  2008-2010  2010-2012  2012-2013  2013-2014  2014-2017  \n",
              "0          0          0          0          1          0          0  \n",
              "1          0          0          0          1          0          0  \n",
              "2          0          0          1          0          0          0  \n",
              "3          1          0          0          0          0          0  \n",
              "4          0          0          0          1          0          0  "
            ]
          },
          "metadata": {
            "tags": []
          },
          "execution_count": 58
        }
      ]
    },
    {
      "cell_type": "markdown",
      "metadata": {
        "id": "1s2tV1dkW8Kw",
        "colab_type": "text"
      },
      "source": [
        "2.2 handing the missing data"
      ]
    },
    {
      "cell_type": "code",
      "metadata": {
        "id": "EsAXNnsNW-zf",
        "colab_type": "code",
        "colab": {}
      },
      "source": [
        "df2[['budget','boxoffice','metacritic_score', 'star_category','imdb_votes', 'imdb_rating']] = \\\n",
        "df2[['budget','boxoffice','metacritic_score', 'star_category','imdb_votes', 'imdb_rating']].replace(0, np.nan)"
      ],
      "execution_count": 0,
      "outputs": []
    },
    {
      "cell_type": "code",
      "metadata": {
        "id": "jWdeaBHOXI1q",
        "colab_type": "code",
        "colab": {}
      },
      "source": [
        "df2['budget'].fillna(df2['budget'].mean(),inplace = True)\n",
        "df2['boxoffice'].fillna(df2['boxoffice'].mean(),inplace = True)\n",
        "df2['metacritic_score'].fillna(df2['metacritic_score'].mean(),inplace = True)\n",
        "df2['star_category'].fillna(df2['star_category'].mean(),inplace = True)\n",
        "df2['imdb_votes'].fillna(df2['imdb_votes'].mean(),inplace = True)\n",
        "df2['imdb_rating'].fillna(df2['imdb_rating'].mean(),inplace = True)"
      ],
      "execution_count": 0,
      "outputs": []
    },
    {
      "cell_type": "markdown",
      "metadata": {
        "id": "zPNT61PFYwac",
        "colab_type": "text"
      },
      "source": [
        "2.3 feature scaling"
      ]
    },
    {
      "cell_type": "code",
      "metadata": {
        "id": "mR4h1rTPYyN7",
        "colab_type": "code",
        "colab": {}
      },
      "source": [
        "from sklearn import preprocessing\n",
        "scale_lst = ['weighted_categorical_position', 'weighted_horizontal_poition', 'budget','boxoffice', \n",
        "             'imdb_votes','imdb_rating','duration_in_mins', 'metacritic_score','star_category']\n",
        "df3 = df2.copy()\n",
        "sc= preprocessing.StandardScaler().fit(df3[scale_lst])\n",
        "df3[scale_lst] = sc.transform(df3[scale_lst])"
      ],
      "execution_count": 0,
      "outputs": []
    },
    {
      "cell_type": "markdown",
      "metadata": {
        "id": "PB2WngBaac8z",
        "colab_type": "text"
      },
      "source": [
        "# **3. Model Training**"
      ]
    },
    {
      "cell_type": "code",
      "metadata": {
        "id": "8shwqHXfbr1t",
        "colab_type": "code",
        "colab": {}
      },
      "source": [
        "from sklearn import model_selection\n",
        "X = df3.drop(['cvt_per_day','video_id'],axis = 1)\n",
        "y = df3['cvt_per_day']\n",
        "X_train,X_test,y_train,y_test = model_selection.train_test_split(X,y,test_size=0.15, random_state = 666)"
      ],
      "execution_count": 0,
      "outputs": []
    },
    {
      "cell_type": "markdown",
      "metadata": {
        "id": "VCaRyLUwbGdy",
        "colab_type": "text"
      },
      "source": [
        "## 3.1 Ridge Regression"
      ]
    },
    {
      "cell_type": "code",
      "metadata": {
        "id": "T5pNQmZ5aUkK",
        "colab_type": "code",
        "outputId": "dfd33055-9b21-44c4-e70e-f41b4331f0e2",
        "colab": {
          "base_uri": "https://localhost:8080/",
          "height": 323
        }
      },
      "source": [
        "from sklearn import linear_model\n",
        "from sklearn.model_selection import GridSearchCV\n",
        "ridge = linear_model.Ridge()\n",
        "\n",
        "params={'alpha': np.logspace (-10, 3, num=150)}\n",
        "gs_ridge = GridSearchCV(ridge, param_grid=params, verbose=1)\n",
        "gs_ridge.fit(X_train,y_train)\n",
        "\n"
      ],
      "execution_count": 63,
      "outputs": [
        {
          "output_type": "stream",
          "text": [
            "Fitting 5 folds for each of 150 candidates, totalling 750 fits\n"
          ],
          "name": "stdout"
        },
        {
          "output_type": "stream",
          "text": [
            "[Parallel(n_jobs=1)]: Using backend SequentialBackend with 1 concurrent workers.\n",
            "[Parallel(n_jobs=1)]: Done 750 out of 750 | elapsed:    7.6s finished\n"
          ],
          "name": "stderr"
        },
        {
          "output_type": "execute_result",
          "data": {
            "text/plain": [
              "GridSearchCV(cv=None, error_score=nan,\n",
              "             estimator=Ridge(alpha=1.0, copy_X=True, fit_intercept=True,\n",
              "                             max_iter=None, normalize=False, random_state=None,\n",
              "                             solver='auto', tol=0.001),\n",
              "             iid='deprecated', n_jobs=None,\n",
              "             param_grid={'alpha': array([1.00000000e-10, 1.22249846e-10, 1.49450249e-10, 1.82702700e-10,\n",
              "       2.23353771e-10, 2.73049642e-10, 3.33802767e-10, 4.08073370e-10,\n",
              "       4.98869...\n",
              "       3.28683970e+01, 4.01815648e+01, 4.91219013e+01, 6.00514488e+01,\n",
              "       7.34128040e+01, 8.97470401e+01, 1.09715619e+02, 1.34127175e+02,\n",
              "       1.63970266e+02, 2.00453398e+02, 2.45053971e+02, 2.99578103e+02,\n",
              "       3.66233771e+02, 4.47720223e+02, 5.47337285e+02, 6.69118990e+02,\n",
              "       8.17996938e+02, 1.00000000e+03])},\n",
              "             pre_dispatch='2*n_jobs', refit=True, return_train_score=False,\n",
              "             scoring=None, verbose=1)"
            ]
          },
          "metadata": {
            "tags": []
          },
          "execution_count": 63
        }
      ]
    },
    {
      "cell_type": "code",
      "metadata": {
        "id": "KWtmeYczbe8C",
        "colab_type": "code",
        "outputId": "aa7b71e4-55b1-490c-f17a-be54214da2ec",
        "colab": {
          "base_uri": "https://localhost:8080/",
          "height": 51
        }
      },
      "source": [
        "gs_ridge.best_estimator_"
      ],
      "execution_count": 64,
      "outputs": [
        {
          "output_type": "execute_result",
          "data": {
            "text/plain": [
              "Ridge(alpha=245.053971279426, copy_X=True, fit_intercept=True, max_iter=None,\n",
              "      normalize=False, random_state=None, solver='auto', tol=0.001)"
            ]
          },
          "metadata": {
            "tags": []
          },
          "execution_count": 64
        }
      ]
    },
    {
      "cell_type": "code",
      "metadata": {
        "id": "zmQgXJIPrtzQ",
        "colab_type": "code",
        "colab": {}
      },
      "source": [
        "best_ridge = gs_ridge.best_estimator_"
      ],
      "execution_count": 0,
      "outputs": []
    },
    {
      "cell_type": "code",
      "metadata": {
        "id": "mNDH16aVwm4d",
        "colab_type": "code",
        "outputId": "be67a13a-9205-4af7-89bd-5cf8766a589d",
        "colab": {
          "base_uri": "https://localhost:8080/",
          "height": 51
        }
      },
      "source": [
        "from sklearn import metrics\n",
        "ridge_y_hat = best_ridge.predict(X_train)\n",
        "r2 = metrics.r2_score(y_train,ridge_y_hat)\n",
        "ridge_mse = metrics.mean_squared_error(y_train,ridge_y_hat)\n",
        "ridge_r2 = metrics.r2_score(y_train,ridge_y_hat)\n",
        "print(\"the mse of ridge is: \",ridge_mse)\n",
        "print(\"the r2 of ridge is: \",ridge_r2)"
      ],
      "execution_count": 66,
      "outputs": [
        {
          "output_type": "stream",
          "text": [
            "the mse of ridge is:  131357139.12628561\n",
            "the r2 of ridge is:  0.2615390583340692\n"
          ],
          "name": "stdout"
        }
      ]
    },
    {
      "cell_type": "code",
      "metadata": {
        "id": "9M7f8KdjbPtf",
        "colab_type": "code",
        "colab": {}
      },
      "source": [
        ""
      ],
      "execution_count": 0,
      "outputs": []
    },
    {
      "cell_type": "markdown",
      "metadata": {
        "id": "zgf1vHNeF7FJ",
        "colab_type": "text"
      },
      "source": [
        "## 3.2 Random Forest Regressor"
      ]
    },
    {
      "cell_type": "code",
      "metadata": {
        "id": "fQnLUR5dGBES",
        "colab_type": "code",
        "colab": {}
      },
      "source": [
        "from sklearn import ensemble\n",
        "rfr = ensemble.RandomForestRegressor(random_state=2, max_features = 'sqrt')"
      ],
      "execution_count": 0,
      "outputs": []
    },
    {
      "cell_type": "code",
      "metadata": {
        "id": "PBSAz81FGVkI",
        "colab_type": "code",
        "outputId": "9cd301e6-20ed-4d55-f4a0-9c620d502435",
        "colab": {
          "base_uri": "https://localhost:8080/",
          "height": 425
        }
      },
      "source": [
        "param_grid = {\n",
        "                 'n_estimators': [54, 55, 56, 57, 58, 59, 60, 62],\n",
        "                 'max_depth': [12, 13, 14, 15, 16, 17]\n",
        "             }\n",
        "rfr_gs = GridSearchCV(rfr,param_grid,n_jobs = -1, verbose = 1)\n",
        "rfr_gs.fit(X_train,y_train)"
      ],
      "execution_count": 68,
      "outputs": [
        {
          "output_type": "stream",
          "text": [
            "Fitting 5 folds for each of 48 candidates, totalling 240 fits\n"
          ],
          "name": "stdout"
        },
        {
          "output_type": "stream",
          "text": [
            "[Parallel(n_jobs=-1)]: Using backend LokyBackend with 2 concurrent workers.\n",
            "[Parallel(n_jobs=-1)]: Done  46 tasks      | elapsed:   10.5s\n",
            "[Parallel(n_jobs=-1)]: Done 196 tasks      | elapsed:   44.5s\n",
            "[Parallel(n_jobs=-1)]: Done 240 out of 240 | elapsed:   55.7s finished\n"
          ],
          "name": "stderr"
        },
        {
          "output_type": "execute_result",
          "data": {
            "text/plain": [
              "GridSearchCV(cv=None, error_score=nan,\n",
              "             estimator=RandomForestRegressor(bootstrap=True, ccp_alpha=0.0,\n",
              "                                             criterion='mse', max_depth=None,\n",
              "                                             max_features='sqrt',\n",
              "                                             max_leaf_nodes=None,\n",
              "                                             max_samples=None,\n",
              "                                             min_impurity_decrease=0.0,\n",
              "                                             min_impurity_split=None,\n",
              "                                             min_samples_leaf=1,\n",
              "                                             min_samples_split=2,\n",
              "                                             min_weight_fraction_leaf=0.0,\n",
              "                                             n_estimators=100, n_jobs=None,\n",
              "                                             oob_score=False, random_state=2,\n",
              "                                             verbose=0, warm_start=False),\n",
              "             iid='deprecated', n_jobs=-1,\n",
              "             param_grid={'max_depth': [12, 13, 14, 15, 16, 17],\n",
              "                         'n_estimators': [54, 55, 56, 57, 58, 59, 60, 62]},\n",
              "             pre_dispatch='2*n_jobs', refit=True, return_train_score=False,\n",
              "             scoring=None, verbose=1)"
            ]
          },
          "metadata": {
            "tags": []
          },
          "execution_count": 68
        }
      ]
    },
    {
      "cell_type": "code",
      "metadata": {
        "id": "jZQfh9jrHBg6",
        "colab_type": "code",
        "outputId": "06037c77-086a-47cb-a8bc-e80ee0770c0a",
        "colab": {
          "base_uri": "https://localhost:8080/",
          "height": 34
        }
      },
      "source": [
        "rfr_gs.best_params_"
      ],
      "execution_count": 69,
      "outputs": [
        {
          "output_type": "execute_result",
          "data": {
            "text/plain": [
              "{'max_depth': 15, 'n_estimators': 55}"
            ]
          },
          "metadata": {
            "tags": []
          },
          "execution_count": 69
        }
      ]
    },
    {
      "cell_type": "code",
      "metadata": {
        "id": "SqbHw7jDHSx9",
        "colab_type": "code",
        "outputId": "20cfcc51-e579-4252-ca71-f1617409bc89",
        "colab": {
          "base_uri": "https://localhost:8080/",
          "height": 34
        }
      },
      "source": [
        "rfr_gs.best_score_"
      ],
      "execution_count": 70,
      "outputs": [
        {
          "output_type": "execute_result",
          "data": {
            "text/plain": [
              "0.5224887575800337"
            ]
          },
          "metadata": {
            "tags": []
          },
          "execution_count": 70
        }
      ]
    },
    {
      "cell_type": "code",
      "metadata": {
        "id": "pPa0RBFla0He",
        "colab_type": "code",
        "outputId": "2d9e7a43-49f2-473f-9a28-5e344333294b",
        "colab": {
          "base_uri": "https://localhost:8080/",
          "height": 51
        }
      },
      "source": [
        "best_rfr = rfr_gs.best_estimator_\n",
        "rfr_y_hat = best_rfr.predict(X_train)\n",
        "rfr_mse = metrics.mean_squared_error(y_train,rfr_y_hat)\n",
        "rfr_r2 = metrics.r2_score(y_train,rfr_y_hat)\n",
        "print(\"the mse of rf is: \",rfr_mse)\n",
        "print(\"the r2 of rf is: \",rfr_r2)"
      ],
      "execution_count": 71,
      "outputs": [
        {
          "output_type": "stream",
          "text": [
            "the mse of rf is:  13693204.048317147\n",
            "the r2 of rf is:  0.9230198189211283\n"
          ],
          "name": "stdout"
        }
      ]
    },
    {
      "cell_type": "markdown",
      "metadata": {
        "id": "zeHkuUJdH2pF",
        "colab_type": "text"
      },
      "source": [
        "## 3.3 SVM Regressor"
      ]
    },
    {
      "cell_type": "code",
      "metadata": {
        "id": "u5CtpSWgH8lR",
        "colab_type": "code",
        "colab": {}
      },
      "source": [
        "from sklearn import svm\n",
        "svmr = svm.SVR()"
      ],
      "execution_count": 0,
      "outputs": []
    },
    {
      "cell_type": "code",
      "metadata": {
        "id": "B_YQTBG1IJRA",
        "colab_type": "code",
        "outputId": "ef32feba-76f9-4bef-a702-bae79bec438a",
        "colab": {
          "base_uri": "https://localhost:8080/",
          "height": 272
        }
      },
      "source": [
        "param_grid = [\n",
        "  {'C': [1, 10, 100, 1000], 'kernel': ['linear']},\n",
        "  {'C': [1, 10, 100, 1000], 'gamma': [0.001, 0.0001], 'kernel': ['rbf']},\n",
        " ]\n",
        "\n",
        "svmr_gs = GridSearchCV(svmr,param_grid,n_jobs = -1, verbose=1)\n",
        "svmr_gs.fit(X_train,y_train)"
      ],
      "execution_count": 73,
      "outputs": [
        {
          "output_type": "stream",
          "text": [
            "Fitting 5 folds for each of 12 candidates, totalling 60 fits\n"
          ],
          "name": "stdout"
        },
        {
          "output_type": "stream",
          "text": [
            "[Parallel(n_jobs=-1)]: Using backend LokyBackend with 2 concurrent workers.\n",
            "[Parallel(n_jobs=-1)]: Done  46 tasks      | elapsed:   47.4s\n",
            "[Parallel(n_jobs=-1)]: Done  60 out of  60 | elapsed:   59.0s finished\n"
          ],
          "name": "stderr"
        },
        {
          "output_type": "execute_result",
          "data": {
            "text/plain": [
              "GridSearchCV(cv=None, error_score=nan,\n",
              "             estimator=SVR(C=1.0, cache_size=200, coef0=0.0, degree=3,\n",
              "                           epsilon=0.1, gamma='scale', kernel='rbf',\n",
              "                           max_iter=-1, shrinking=True, tol=0.001,\n",
              "                           verbose=False),\n",
              "             iid='deprecated', n_jobs=-1,\n",
              "             param_grid=[{'C': [1, 10, 100, 1000], 'kernel': ['linear']},\n",
              "                         {'C': [1, 10, 100, 1000], 'gamma': [0.001, 0.0001],\n",
              "                          'kernel': ['rbf']}],\n",
              "             pre_dispatch='2*n_jobs', refit=True, return_train_score=False,\n",
              "             scoring=None, verbose=1)"
            ]
          },
          "metadata": {
            "tags": []
          },
          "execution_count": 73
        }
      ]
    },
    {
      "cell_type": "code",
      "metadata": {
        "id": "C7h6KabWKUeh",
        "colab_type": "code",
        "outputId": "937f3a47-f522-4953-a7a4-e75e093b8020",
        "colab": {
          "base_uri": "https://localhost:8080/",
          "height": 51
        }
      },
      "source": [
        "svmr_gs.best_estimator_"
      ],
      "execution_count": 74,
      "outputs": [
        {
          "output_type": "execute_result",
          "data": {
            "text/plain": [
              "SVR(C=100, cache_size=200, coef0=0.0, degree=3, epsilon=0.1, gamma='scale',\n",
              "    kernel='linear', max_iter=-1, shrinking=True, tol=0.001, verbose=False)"
            ]
          },
          "metadata": {
            "tags": []
          },
          "execution_count": 74
        }
      ]
    },
    {
      "cell_type": "code",
      "metadata": {
        "id": "boUIZwcZJ4ei",
        "colab_type": "code",
        "outputId": "8f26fcff-610f-4b99-b949-28e4155dafaf",
        "colab": {
          "base_uri": "https://localhost:8080/",
          "height": 34
        }
      },
      "source": [
        "svmr_gs.best_score_"
      ],
      "execution_count": 75,
      "outputs": [
        {
          "output_type": "execute_result",
          "data": {
            "text/plain": [
              "0.11039117088996706"
            ]
          },
          "metadata": {
            "tags": []
          },
          "execution_count": 75
        }
      ]
    },
    {
      "cell_type": "code",
      "metadata": {
        "id": "l652V15LaCgO",
        "colab_type": "code",
        "outputId": "9a41ea5a-6818-4236-dd81-507c9d94799c",
        "colab": {
          "base_uri": "https://localhost:8080/",
          "height": 51
        }
      },
      "source": [
        "best_svm = svmr_gs.best_estimator_\n",
        "svm_y_hat = best_svm.predict(X_train)\n",
        "svm_mse = metrics.mean_squared_error(y_train,svm_y_hat)\n",
        "svm_r2 = metrics.r2_score(y_train,svm_y_hat)\n",
        "print(\"the mse of svm is: \",svm_mse)\n",
        "print(\"the r2 of svm is: \",svm_r2)"
      ],
      "execution_count": 76,
      "outputs": [
        {
          "output_type": "stream",
          "text": [
            "the mse of svm is:  157769787.49655688\n",
            "the r2 of svm is:  0.11305295916095925\n"
          ],
          "name": "stdout"
        }
      ]
    },
    {
      "cell_type": "markdown",
      "metadata": {
        "id": "exrs8i-2Kbmd",
        "colab_type": "text"
      },
      "source": [
        "## 3.4 XGboost"
      ]
    },
    {
      "cell_type": "code",
      "metadata": {
        "id": "Pc-DNc6ZKhbU",
        "colab_type": "code",
        "colab": {}
      },
      "source": [
        "from xgboost import XGBRegressor\n",
        "xgbr = XGBRegressor()"
      ],
      "execution_count": 0,
      "outputs": []
    },
    {
      "cell_type": "code",
      "metadata": {
        "id": "dAH5TBqcK6wu",
        "colab_type": "code",
        "colab": {}
      },
      "source": [
        "params = {\"objective\":\"reg:linear\",'colsample_bytree': 0.3,'learning_rate': 0.1,\n",
        "                'max_depth': 5, 'alpha': 10}\n"
      ],
      "execution_count": 0,
      "outputs": []
    },
    {
      "cell_type": "code",
      "metadata": {
        "id": "xwJANlCcMNff",
        "colab_type": "code",
        "outputId": "11011a89-f36f-4851-ad9e-55c7f9af65d4",
        "colab": {
          "base_uri": "https://localhost:8080/",
          "height": 153
        }
      },
      "source": [
        "xgbr.fit(X_train,y_train)"
      ],
      "execution_count": 79,
      "outputs": [
        {
          "output_type": "stream",
          "text": [
            "[20:31:19] WARNING: /workspace/src/objective/regression_obj.cu:152: reg:linear is now deprecated in favor of reg:squarederror.\n"
          ],
          "name": "stdout"
        },
        {
          "output_type": "execute_result",
          "data": {
            "text/plain": [
              "XGBRegressor(base_score=0.5, booster='gbtree', colsample_bylevel=1,\n",
              "             colsample_bynode=1, colsample_bytree=1, gamma=0,\n",
              "             importance_type='gain', learning_rate=0.1, max_delta_step=0,\n",
              "             max_depth=3, min_child_weight=1, missing=None, n_estimators=100,\n",
              "             n_jobs=1, nthread=None, objective='reg:linear', random_state=0,\n",
              "             reg_alpha=0, reg_lambda=1, scale_pos_weight=1, seed=None,\n",
              "             silent=None, subsample=1, verbosity=1)"
            ]
          },
          "metadata": {
            "tags": []
          },
          "execution_count": 79
        }
      ]
    },
    {
      "cell_type": "code",
      "metadata": {
        "id": "TfP8LCU0fw74",
        "colab_type": "code",
        "outputId": "06f8334e-f163-4aa2-9566-39b1aed63991",
        "colab": {
          "base_uri": "https://localhost:8080/",
          "height": 357
        }
      },
      "source": [
        "from sklearn.model_selection import RandomizedSearchCV, GridSearchCV\n",
        "from sklearn.metrics import mean_squared_error\n",
        "from sklearn.model_selection import StratifiedKFold\n",
        "\n",
        "\n",
        "cv_params = {'n_estimators': [400, 500, 600, 700, 800]}\n",
        "other_params = {'learning_rate': 0.1, 'n_estimators': 500, 'max_depth': 5, 'min_child_weight': 1, 'seed': 0,\\\n",
        "                'subsample': 0.8, 'colsample_bytree': 0.8, 'gamma': 0, 'reg_alpha': 0, 'reg_lambda': 1}\n",
        "xgb_r = XGBRegressor(**other_params)\n",
        "xgb_gs = GridSearchCV(estimator=xgb_r, param_grid=cv_params, scoring='r2', cv=5, verbose=1, n_jobs=-1)\n",
        "xgb_gs.fit(X_train, y_train)"
      ],
      "execution_count": 80,
      "outputs": [
        {
          "output_type": "stream",
          "text": [
            "Fitting 5 folds for each of 5 candidates, totalling 25 fits\n"
          ],
          "name": "stdout"
        },
        {
          "output_type": "stream",
          "text": [
            "[Parallel(n_jobs=-1)]: Using backend LokyBackend with 2 concurrent workers.\n",
            "[Parallel(n_jobs=-1)]: Done  25 out of  25 | elapsed:  1.3min finished\n"
          ],
          "name": "stderr"
        },
        {
          "output_type": "stream",
          "text": [
            "[20:32:38] WARNING: /workspace/src/objective/regression_obj.cu:152: reg:linear is now deprecated in favor of reg:squarederror.\n"
          ],
          "name": "stdout"
        },
        {
          "output_type": "execute_result",
          "data": {
            "text/plain": [
              "GridSearchCV(cv=5, error_score=nan,\n",
              "             estimator=XGBRegressor(base_score=0.5, booster='gbtree',\n",
              "                                    colsample_bylevel=1, colsample_bynode=1,\n",
              "                                    colsample_bytree=0.8, gamma=0,\n",
              "                                    importance_type='gain', learning_rate=0.1,\n",
              "                                    max_delta_step=0, max_depth=5,\n",
              "                                    min_child_weight=1, missing=None,\n",
              "                                    n_estimators=500, n_jobs=1, nthread=None,\n",
              "                                    objective='reg:linear', random_state=0,\n",
              "                                    reg_alpha=0, reg_lambda=1,\n",
              "                                    scale_pos_weight=1, seed=0, silent=None,\n",
              "                                    subsample=0.8, verbosity=1),\n",
              "             iid='deprecated', n_jobs=-1,\n",
              "             param_grid={'n_estimators': [400, 500, 600, 700, 800]},\n",
              "             pre_dispatch='2*n_jobs', refit=True, return_train_score=False,\n",
              "             scoring='r2', verbose=1)"
            ]
          },
          "metadata": {
            "tags": []
          },
          "execution_count": 80
        }
      ]
    },
    {
      "cell_type": "code",
      "metadata": {
        "id": "CPTixP2krmz6",
        "colab_type": "code",
        "outputId": "f2b1a300-6671-413a-a389-518c5487ad78",
        "colab": {
          "base_uri": "https://localhost:8080/",
          "height": 51
        }
      },
      "source": [
        "best_xgb = xgb_gs.best_estimator_\n",
        "xgb_y_hat = best_xgb.predict(X_train)\n",
        "xgb_mse = metrics.mean_squared_error(y_train,xgb_y_hat)\n",
        "xgb_r2 = metrics.r2_score(y_train,xgb_y_hat)\n",
        "print(\"the mse of xgboost is: \",xgb_mse)\n",
        "print(\"the r-square of xgboost is: \",xgb_r2)"
      ],
      "execution_count": 81,
      "outputs": [
        {
          "output_type": "stream",
          "text": [
            "the mse of xgboost is:  1045609.2456990848\n",
            "the r-square of xgboost is:  0.9941218148223279\n"
          ],
          "name": "stdout"
        }
      ]
    },
    {
      "cell_type": "markdown",
      "metadata": {
        "id": "-VfjwNqavHSD",
        "colab_type": "text"
      },
      "source": [
        "## 3.5 evaluation on train dataset\n",
        "on the training dataset, xgboost and random forest have the better perfomance"
      ]
    },
    {
      "cell_type": "code",
      "metadata": {
        "id": "48GW0SpdU25Z",
        "colab_type": "code",
        "colab": {}
      },
      "source": [
        "all_mse = ['ridge_mse','rfr_mse', 'svm_mse','xgb_mse']\n",
        "mse_val =  [ridge_mse,rfr_mse, svm_mse,xgb_mse]"
      ],
      "execution_count": 0,
      "outputs": []
    },
    {
      "cell_type": "code",
      "metadata": {
        "id": "8sggKWFBcXuj",
        "colab_type": "code",
        "outputId": "8d662a53-578c-4935-a53f-704149086147",
        "colab": {
          "base_uri": "https://localhost:8080/",
          "height": 277
        }
      },
      "source": [
        "plt.bar(all_mse,mse_val)\n",
        "plt.show()"
      ],
      "execution_count": 83,
      "outputs": [
        {
          "output_type": "display_data",
          "data": {
            "image/png": "[encoded data removed]",
            "text/plain": [
              "<Figure size 432x288 with 1 Axes>"
            ]
          },
          "metadata": {
            "tags": [],
            "needs_background": "light"
          }
        }
      ]
    },
    {
      "cell_type": "code",
      "metadata": {
        "id": "GQ6iLtblcpH3",
        "colab_type": "code",
        "outputId": "cbe4ba24-2549-4061-e5f8-8234c51cb18a",
        "colab": {
          "base_uri": "https://localhost:8080/",
          "height": 266
        }
      },
      "source": [
        "all_r2 = ['ridge_r2','rfr_r2', 'svm_r2','xgb_r2']\n",
        "r2_val = [ridge_r2,rfr_r2, svm_r2,xgb_r2]\n",
        "plt.bar(all_r2,r2_val)\n",
        "plt.show()"
      ],
      "execution_count": 84,
      "outputs": [
        {
          "output_type": "display_data",
          "data": {
            "image/png": "[encoded data removed]",
            "text/plain": [
              "<Figure size 432x288 with 1 Axes>"
            ]
          },
          "metadata": {
            "tags": [],
            "needs_background": "light"
          }
        }
      ]
    },
    {
      "cell_type": "markdown",
      "metadata": {
        "id": "JIN20sqvv6u-",
        "colab_type": "text"
      },
      "source": [
        "## 4. Model Evaluation on testing dataset"
      ]
    },
    {
      "cell_type": "markdown",
      "metadata": {
        "id": "ZFLMREuAwFST",
        "colab_type": "text"
      },
      "source": [
        "4.1 Ridge Performance"
      ]
    },
    {
      "cell_type": "code",
      "metadata": {
        "id": "GZPPSHduwANz",
        "colab_type": "code",
        "outputId": "72d660c1-11e2-4b25-92cc-fb7dab5cbc44",
        "colab": {
          "base_uri": "https://localhost:8080/",
          "height": 51
        }
      },
      "source": [
        "ridge_predict = best_ridge.predict(X_test)\n",
        "ridge_predict_mse = metrics.mean_squared_error(y_test,ridge_predict)\n",
        "ridge_predict_r2 = metrics.r2_score(y_test,ridge_predict)\n",
        "print(\"ridge mse on testing is: \",ridge_predict_mse)\n",
        "print(\"ridge r2 on testing is: \",ridge_predict_r2)\n"
      ],
      "execution_count": 96,
      "outputs": [
        {
          "output_type": "stream",
          "text": [
            "ridge mse on testing is:  82093959.06788635\n",
            "ridge r2 on testing is:  0.3415630584639172\n"
          ],
          "name": "stdout"
        }
      ]
    },
    {
      "cell_type": "markdown",
      "metadata": {
        "id": "GV9ILkvMxUtk",
        "colab_type": "text"
      },
      "source": [
        "4.2 Random Forest Performance"
      ]
    },
    {
      "cell_type": "code",
      "metadata": {
        "id": "XGJRxgNJxaej",
        "colab_type": "code",
        "outputId": "3e4d04f8-e66f-45b2-f0ff-36616b3ca6e6",
        "colab": {
          "base_uri": "https://localhost:8080/",
          "height": 51
        }
      },
      "source": [
        "rf_predict = best_rfr.predict(X_test)\n",
        "rf_predict_mse = metrics.mean_squared_error(y_test,rf_predict)\n",
        "rf_predict_r2 = metrics.r2_score(y_test,rf_predict)\n",
        "print(\"random forest mse on testing is: \",rf_predict_mse)\n",
        "print(\"random forest r2 on testing is: \",rf_predict_r2)"
      ],
      "execution_count": 97,
      "outputs": [
        {
          "output_type": "stream",
          "text": [
            "random forest mse on testing is:  49336840.20034211\n",
            "random forest r2 on testing is:  0.6042924651775585\n"
          ],
          "name": "stdout"
        }
      ]
    },
    {
      "cell_type": "markdown",
      "metadata": {
        "id": "uAw_kdtAx6Wj",
        "colab_type": "text"
      },
      "source": [
        "4.3 SVM Performance"
      ]
    },
    {
      "cell_type": "code",
      "metadata": {
        "id": "Mb_BbXGSx3FL",
        "colab_type": "code",
        "outputId": "b80001b8-c421-4d55-f9fc-c4646e5e6b5a",
        "colab": {
          "base_uri": "https://localhost:8080/",
          "height": 51
        }
      },
      "source": [
        "svm_predict = best_svm.predict(X_test)\n",
        "svm_predict_mse = metrics.mean_squared_error(y_test,svm_predict)\n",
        "svm_predict_r2 = metrics.r2_score(y_test,svm_predict)\n",
        "print(\"SVM mse on testing is: \",svm_predict_mse)\n",
        "print(\"SVM r2 on testing is: \",svm_predict_r2)"
      ],
      "execution_count": 98,
      "outputs": [
        {
          "output_type": "stream",
          "text": [
            "SVM mse on testing is:  104704910.9491916\n",
            "SVM r2 on testing is:  0.16021127361900722\n"
          ],
          "name": "stdout"
        }
      ]
    },
    {
      "cell_type": "markdown",
      "metadata": {
        "id": "khFiafKXyI7e",
        "colab_type": "text"
      },
      "source": [
        "4.4 XGBoost Performance"
      ]
    },
    {
      "cell_type": "code",
      "metadata": {
        "id": "sulUyU3uyGrI",
        "colab_type": "code",
        "outputId": "2bf9a43b-eda1-418e-b2ba-bebc4ae9491e",
        "colab": {
          "base_uri": "https://localhost:8080/",
          "height": 51
        }
      },
      "source": [
        "xgb_predict = best_xgb.predict(X_test)\n",
        "xgb_predict_mse = metrics.mean_squared_error(y_test,xgb_predict)\n",
        "xgb_predict_r2 = metrics.r2_score(y_test,xgb_predict)\n",
        "print(\"xgboost mse on testing is: \",xgb_predict_mse)\n",
        "print(\"xgboost r2 on testing is: \",xgb_predict_r2)"
      ],
      "execution_count": 99,
      "outputs": [
        {
          "output_type": "stream",
          "text": [
            "xgboost mse on testing is:  49551214.15221053\n",
            "xgboost r2 on testing is:  0.6025730727787034\n"
          ],
          "name": "stdout"
        }
      ]
    },
    {
      "cell_type": "code",
      "metadata": {
        "id": "E47LuAYHyXjT",
        "colab_type": "code",
        "outputId": "76e4183e-6a14-4e94-cac8-b8a6d51ed90d",
        "colab": {
          "base_uri": "https://localhost:8080/",
          "height": 277
        }
      },
      "source": [
        "test_mse_val = [ridge_predict_mse,rf_predict_mse,svm_predict_mse,xgb_predict_mse]\n",
        "test_mse_label = ['ridge_predict_mse','rf_predict_mse','svm_predict_mse','xgb_predict_mse']\n",
        "plt.bar(test_mse_label,test_mse_val)\n",
        "plt.show()\n",
        "\n"
      ],
      "execution_count": 100,
      "outputs": [
        {
          "output_type": "display_data",
          "data": {
            "image/png": "[encoded data removed]",
            "text/plain": [
              "<Figure size 432x288 with 1 Axes>"
            ]
          },
          "metadata": {
            "tags": [],
            "needs_background": "light"
          }
        }
      ]
    },
    {
      "cell_type": "code",
      "metadata": {
        "id": "PK-89rovzGbb",
        "colab_type": "code",
        "outputId": "d4de8d08-11ff-4bc3-ac51-d6239e94fba7",
        "colab": {
          "base_uri": "https://localhost:8080/",
          "height": 266
        }
      },
      "source": [
        "test_r2_val = [ridge_predict_r2,rf_predict_r2,svm_predict_r2,xgb_predict_r2]\n",
        "test_r2_label = ['ridge_predict_r2','rf_predict_r2','svm_predict_r2','xgb_predict_r2']\n",
        "plt.bar(test_r2_label,test_r2_val)\n",
        "plt.show()"
      ],
      "execution_count": 101,
      "outputs": [
        {
          "output_type": "display_data",
          "data": {
            "image/png": "[encoded data removed]",
            "text/plain": [
              "<Figure size 432x288 with 1 Axes>"
            ]
          },
          "metadata": {
            "tags": [],
            "needs_background": "light"
          }
        }
      ]
    },
    {
      "cell_type": "markdown",
      "metadata": {
        "id": "CX8EKe8w0MNC",
        "colab_type": "text"
      },
      "source": [
        "# Conclusion: Within 4 models, random forest and xgboost are out performers. Random Forest has slightly better performance than Xgboost in this case. So eventually, I pick the random forest as final forcast algorithm."
      ]
    },
    {
      "cell_type": "code",
      "metadata": {
        "id": "6DLYX8jW1IIo",
        "colab_type": "code",
        "colab": {}
      },
      "source": [
        "index = np.argsort(best_rfr.feature_importances_)\n",
        "x_axis = best_rfr.feature_importances_[index][-10:]\n",
        "y_axis = X_test.columns[index][-10:]"
      ],
      "execution_count": 0,
      "outputs": []
    },
    {
      "cell_type": "code",
      "metadata": {
        "id": "zru3sfPKnLbe",
        "colab_type": "code",
        "colab": {
          "base_uri": "https://localhost:8080/",
          "height": 391
        },
        "outputId": "20576af5-0852-4ef9-da8f-5c64009f1f28"
      },
      "source": [
        "from matplotlib import pyplot\n",
        "fig = plt.figure(figsize=(6,6)) \n",
        "pyplot.barh(y_axis, x_axis)"
      ],
      "execution_count": 153,
      "outputs": [
        {
          "output_type": "execute_result",
          "data": {
            "text/plain": [
              "<BarContainer object of 10 artists>"
            ]
          },
          "metadata": {
            "tags": []
          },
          "execution_count": 153
        },
        {
          "output_type": "display_data",
          "data": {
            "image/png": "[encoded data removed]",
            "text/plain": [
              "<Figure size 432x432 with 1 Axes>"
            ]
          },
          "metadata": {
            "tags": [],
            "needs_background": "light"
          }
        }
      ]
    },
    {
      "cell_type": "code",
      "metadata": {
        "id": "5chGeyl3n1TI",
        "colab_type": "code",
        "colab": {
          "base_uri": "https://localhost:8080/",
          "height": 85
        },
        "outputId": "ad8546d9-b323-4a8d-dbe9-346d2082b61e"
      },
      "source": [
        "X_test.columns[index][-10:][::-1]"
      ],
      "execution_count": 155,
      "outputs": [
        {
          "output_type": "execute_result",
          "data": {
            "text/plain": [
              "Index(['weighted_categorical_position', 'imdb_votes',\n",
              "       'weighted_horizontal_poition', 'boxoffice', 'budget', 'star_category',\n",
              "       'metacritic_score', '2012-2013', 'imdb_rating', 'duration_in_mins'],\n",
              "      dtype='object')"
            ]
          },
          "metadata": {
            "tags": []
          },
          "execution_count": 155
        }
      ]
    },
    {
      "cell_type": "code",
      "metadata": {
        "id": "_RXPgmKXrlqk",
        "colab_type": "code",
        "colab": {}
      },
      "source": [
        ""
      ],
      "execution_count": 0,
      "outputs": []
    }
  ]
}